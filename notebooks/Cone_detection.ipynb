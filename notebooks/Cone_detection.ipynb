{
  "cells": [
    {
      "cell_type": "markdown",
      "metadata": {
        "id": "qIzfgWn0spbA"
      },
      "source": [
        "# Setup"
      ]
    },
    {
      "cell_type": "code",
      "execution_count": null,
      "metadata": {
        "colab": {
          "base_uri": "https://localhost:8080/"
        },
        "id": "ZKE9cfBKsulD",
        "outputId": "f72337d1-28ad-4d83-c9c6-51e8f12e7023"
      },
      "outputs": [],
      "source": [
        "!nvidia-smi\n",
        "!pip install \"ultralytics>=8.3.50\" roboflow==1.*"
      ]
    },
    {
      "cell_type": "code",
      "execution_count": null,
      "metadata": {
        "id": "4ykYsXptFRyy"
      },
      "outputs": [],
      "source": [
        "!rm -rf /content/sample_data/"
      ]
    },
    {
      "cell_type": "markdown",
      "metadata": {
        "id": "tQgFM9gdtvFH"
      },
      "source": [
        "# Load Dataset"
      ]
    },
    {
      "cell_type": "code",
      "execution_count": null,
      "metadata": {
        "colab": {
          "base_uri": "https://localhost:8080/"
        },
        "id": "JwaZcYDYtxDk",
        "outputId": "7937187e-9495-4cfe-9548-4d27009abce0"
      },
      "outputs": [],
      "source": [
        "from roboflow import Roboflow\n",
        "rf = Roboflow(api_key=\"UGuKv3GDa6PNiTMeOoLd\")\n",
        "project = rf.workspace(\"workspaceendeavor360\").project(\"formula-student-cones-roz6f\") #personal workspace\n",
        "version = project.version(1)\n",
        "dataset = version.download(\"yolov12\")\n",
        "print(\"Dataset downloaded to:\", dataset.location)\n"
      ]
    },
    {
      "cell_type": "markdown",
      "metadata": {
        "id": "gZ0EHVrMFmAL"
      },
      "source": [
        "# To save after Disconnect"
      ]
    },
    {
      "cell_type": "code",
      "execution_count": null,
      "metadata": {
        "colab": {
          "base_uri": "https://localhost:8080/"
        },
        "id": "U6K5EPmxttyP",
        "outputId": "7468f927-7dd0-4202-e8e8-3c47b608d93e"
      },
      "outputs": [],
      "source": [
        "from google.colab import drive\n",
        "drive.mount('/content/drive')\n",
        "\n",
        "PROJECT_DIR = \"/content/drive/MyDrive/cone-detector-yolov12-1024\"\n",
        "!mkdir -p \"$PROJECT_DIR\"\n"
      ]
    },
    {
      "cell_type": "markdown",
      "metadata": {
        "id": "nQDDSDXFG4WB"
      },
      "source": [
        "# Now train on the custom exported dataset"
      ]
    },
    {
      "cell_type": "code",
      "execution_count": null,
      "metadata": {
        "colab": {
          "base_uri": "https://localhost:8080/"
        },
        "id": "5MfoimyEGa8t",
        "outputId": "4544df24-b8d4-49da-dcc9-cf4293514ce1"
      },
      "outputs": [],
      "source": [
        "from ultralytics import YOLO\n",
        "import os\n",
        "os.chdir(dataset.location)\n",
        "\n",
        "# Load base model\n",
        "model = YOLO(\"yolov8n.pt\")\n",
        "# Start training\n",
        "results = model.train(\n",
        "    data=\"data.yaml\",\n",
        "    epochs=50,\n",
        "    imgsz=1024,\n",
        "    batch=8,\n",
        "    device=0,\n",
        "    rect=True,\n",
        "    project=PROJECT_DIR,\n",
        "    name=\"cones_yolov12_1024\"\n",
        ")\n"
      ]
    },
    {
      "cell_type": "markdown",
      "metadata": {
        "id": "_-Bcce7Yd_i4"
      },
      "source": [
        "# Test"
      ]
    },
    {
      "cell_type": "code",
      "execution_count": null,
      "metadata": {
        "colab": {
          "base_uri": "https://localhost:8080/"
        },
        "id": "JwFjXECTeyrJ",
        "outputId": "9f7fdbf9-4346-4eb4-9d67-195550177fa7"
      },
      "outputs": [],
      "source": [
        "os.chdir(\"/content\")\n",
        "\n",
        "%rm -rf /content/pred_custom\n",
        "\n",
        "import os, cv2\n",
        "from ultralytics import YOLO\n",
        "\n",
        "best_path = \"/content/drive/MyDrive/cone-detector-yolov12-1024/cones_yolov12_1024/weights/best.pt\"\n",
        "model = YOLO(best_path)\n",
        "\n",
        "test_path = \"/content/Formula-Student-Cones-1/test/images/\"\n",
        "\n",
        "results = model.predict(source=test_path, conf=0.5, save=False)\n",
        "\n",
        "out_dir = \"/content/pred_custom\"\n",
        "os.makedirs(out_dir, exist_ok=True)\n",
        "\n",
        "for i, r in enumerate(results):\n",
        "    img = r.plot(labels=True, conf=True, line_width=1, font_size=0.2)\n",
        "    cv2.imwrite(os.path.join(out_dir, f\"{i:04d}.jpg\"), img)\n",
        "\n",
        "print(\"Custom predictions saved to:\", out_dir)\n"
      ]
    },
    {
      "cell_type": "code",
      "execution_count": null,
      "metadata": {
        "colab": {
          "base_uri": "https://localhost:8080/"
        },
        "id": "FsLSGFIBsyfu",
        "outputId": "02b1d930-3a5c-4d60-f7e5-42a26d9abb7e"
      },
      "outputs": [],
      "source": [
        "os.chdir(dataset.location)\n",
        "metrics = model.val(data=\"data.yaml\", split=\"test\", imgsz=1024, batch=8, device=0)\n",
        "print(metrics)"
      ]
    }
  ],
  "metadata": {
    "accelerator": "GPU",
    "colab": {
      "gpuType": "T4",
      "provenance": []
    },
    "kernelspec": {
      "display_name": "Python 3",
      "name": "python3"
    },
    "language_info": {
      "name": "python"
    }
  },
  "nbformat": 4,
  "nbformat_minor": 0
}
