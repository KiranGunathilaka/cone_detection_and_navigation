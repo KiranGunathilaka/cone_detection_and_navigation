{
 "cells": [
  {
   "cell_type": "markdown",
   "id": "97404f16",
   "metadata": {},
   "source": [
    "# To inference"
   ]
  },
  {
   "cell_type": "code",
   "execution_count": null,
   "id": "bd2a40f5",
   "metadata": {},
   "outputs": [],
   "source": [
    "!nvidia-smi\n",
    "!pip install \"ultralytics>=8.3.50\"\n",
    "!git clone https://github.com/KiranGunathilaka/cone_detection_and_navigation.git"
   ]
  },
  {
   "cell_type": "markdown",
   "id": "4e7d5039",
   "metadata": {},
   "source": [
    "### Change the location of the image directory to inference"
   ]
  },
  {
   "cell_type": "code",
   "execution_count": null,
   "id": "20454c7a",
   "metadata": {},
   "outputs": [],
   "source": [
    "input_dir=\"/content/add here\""
   ]
  },
  {
   "cell_type": "markdown",
   "id": "b5e90964",
   "metadata": {},
   "source": [
    "### Now outputs will be available at the outputs direcotry"
   ]
  },
  {
   "cell_type": "code",
   "execution_count": null,
   "id": "328cd93f",
   "metadata": {},
   "outputs": [],
   "source": [
    "os.chdir(\"/content\")\n",
    "\n",
    "import os, cv2\n",
    "from ultralytics import YOLO\n",
    "\n",
    "model_path = \"/content/cone_detection/models/best.pt\"\n",
    "model = YOLO(model_path)\n",
    "\n",
    "results = model.predict(source=input_dir, conf=0.5, save=False)\n",
    "\n",
    "out_dir = \"/content/outputs\"\n",
    "os.makedirs(out_dir, exist_ok=True)\n",
    "\n",
    "for i, r in enumerate(results):\n",
    "    img = r.plot(labels=True, conf=True, line_width=1, font_size=0.2)\n",
    "    cv2.imwrite(os.path.join(out_dir, f\"{i:04d}.jpg\"), img)\n",
    "\n",
    "print(\"Custom predictions saved to:\", out_dir)\n"
   ]
  }
 ],
 "metadata": {
  "kernelspec": {
   "display_name": "mlcv",
   "language": "python",
   "name": "python3"
  },
  "language_info": {
   "name": "python",
   "version": "3.11.13"
  }
 },
 "nbformat": 4,
 "nbformat_minor": 5
}
